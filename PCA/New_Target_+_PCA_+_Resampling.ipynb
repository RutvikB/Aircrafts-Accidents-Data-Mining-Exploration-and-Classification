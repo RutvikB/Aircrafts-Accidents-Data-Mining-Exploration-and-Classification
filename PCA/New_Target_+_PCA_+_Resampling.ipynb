{
  "nbformat": 4,
  "nbformat_minor": 0,
  "metadata": {
    "colab": {
      "name": "New Target + PCA + Resampling.ipynb",
      "provenance": []
    },
    "kernelspec": {
      "name": "python3",
      "display_name": "Python 3"
    }
  },
  "cells": [
    {
      "cell_type": "markdown",
      "metadata": {
        "id": "kgHe-7WC88Qt"
      },
      "source": [
        "# **Import Libraries**"
      ]
    },
    {
      "cell_type": "code",
      "metadata": {
        "id": "eT2V879TqdXC"
      },
      "source": [
        "import os\n",
        "import sys\n",
        "import numpy as np\n",
        "import pandas as pd\n",
        "import seaborn as sns\n",
        "import matplotlib.pyplot as plt\n",
        "from sklearn.preprocessing import LabelEncoder\n",
        "from sklearn.decomposition import PCA\n",
        "from sklearn.utils import resample, shuffle"
      ],
      "execution_count": 1,
      "outputs": []
    },
    {
      "cell_type": "markdown",
      "metadata": {
        "id": "KZSg7drZ80nm"
      },
      "source": [
        "# **Load Dataset and Build Train Feature and Train Label Dataframes**"
      ]
    },
    {
      "cell_type": "code",
      "metadata": {
        "id": "UOd3eWBwq9Hn",
        "outputId": "a05dfef3-a93e-40f8-f622-3aa0877a2a42",
        "colab": {
          "base_uri": "https://localhost:8080/",
          "height": 324
        }
      },
      "source": [
        "# Load Data\n",
        "\n",
        "data_path = '/content/drive/My Drive/Aircraft_Accidents_New/'\n",
        "\n",
        "main_df = pd.read_excel(os.path.join(data_path, 'AviationData.xlsx'))\n",
        "main_df.head(3)"
      ],
      "execution_count": 2,
      "outputs": [
        {
          "output_type": "execute_result",
          "data": {
            "text/html": [
              "<div>\n",
              "<style scoped>\n",
              "    .dataframe tbody tr th:only-of-type {\n",
              "        vertical-align: middle;\n",
              "    }\n",
              "\n",
              "    .dataframe tbody tr th {\n",
              "        vertical-align: top;\n",
              "    }\n",
              "\n",
              "    .dataframe thead th {\n",
              "        text-align: right;\n",
              "    }\n",
              "</style>\n",
              "<table border=\"1\" class=\"dataframe\">\n",
              "  <thead>\n",
              "    <tr style=\"text-align: right;\">\n",
              "      <th></th>\n",
              "      <th>Event Id</th>\n",
              "      <th>Type</th>\n",
              "      <th>Accident #</th>\n",
              "      <th>Event Date</th>\n",
              "      <th>Location</th>\n",
              "      <th>Country</th>\n",
              "      <th>Latitude</th>\n",
              "      <th>Longitude</th>\n",
              "      <th>Airport Code</th>\n",
              "      <th>Airport Name</th>\n",
              "      <th>Injury Severity</th>\n",
              "      <th>Aircraft Damage</th>\n",
              "      <th>Aircraft Category</th>\n",
              "      <th>Registration Number</th>\n",
              "      <th>Make</th>\n",
              "      <th>Model</th>\n",
              "      <th>Amateur Built</th>\n",
              "      <th>Number of Engines</th>\n",
              "      <th>Engine Type</th>\n",
              "      <th>FAR Description</th>\n",
              "      <th>Schedule</th>\n",
              "      <th>Purpose of Flight</th>\n",
              "      <th>Air Carrier</th>\n",
              "      <th>Total Fatal Injuries</th>\n",
              "      <th>Total Serious Injuries</th>\n",
              "      <th>Total Minor Injuries</th>\n",
              "      <th>Total Uninjured</th>\n",
              "      <th>Weather Condition</th>\n",
              "      <th>Broad Phase of Flight</th>\n",
              "      <th>Report Status</th>\n",
              "      <th>Publication Date</th>\n",
              "    </tr>\n",
              "  </thead>\n",
              "  <tbody>\n",
              "    <tr>\n",
              "      <th>0</th>\n",
              "      <td>20180410X65647</td>\n",
              "      <td>Accident</td>\n",
              "      <td>GAA18CA206</td>\n",
              "      <td>04/10/2018</td>\n",
              "      <td>Edgewood, NM</td>\n",
              "      <td>United States</td>\n",
              "      <td>35.0947</td>\n",
              "      <td>-106.164</td>\n",
              "      <td>1N1</td>\n",
              "      <td>SANDIA AIRPARK ESTATES EAST</td>\n",
              "      <td>Non-Fatal</td>\n",
              "      <td>Substantial</td>\n",
              "      <td>Airplane</td>\n",
              "      <td>N1685</td>\n",
              "      <td>BICE DAVID E</td>\n",
              "      <td>BEARHAWK</td>\n",
              "      <td>Yes</td>\n",
              "      <td>1</td>\n",
              "      <td></td>\n",
              "      <td>Part 91: General Aviation</td>\n",
              "      <td></td>\n",
              "      <td>Personal</td>\n",
              "      <td></td>\n",
              "      <td></td>\n",
              "      <td></td>\n",
              "      <td></td>\n",
              "      <td>1</td>\n",
              "      <td>VMC</td>\n",
              "      <td></td>\n",
              "      <td>Preliminary</td>\n",
              "      <td>04/10/2018</td>\n",
              "    </tr>\n",
              "    <tr>\n",
              "      <th>1</th>\n",
              "      <td>20180410X72014</td>\n",
              "      <td>Accident</td>\n",
              "      <td>GAA18CA209</td>\n",
              "      <td>04/09/2018</td>\n",
              "      <td>Lake Tahoe, CA</td>\n",
              "      <td>United States</td>\n",
              "      <td>38.8939</td>\n",
              "      <td>-119.995</td>\n",
              "      <td>TVL</td>\n",
              "      <td>LAKE TAHOE</td>\n",
              "      <td>Non-Fatal</td>\n",
              "      <td>Substantial</td>\n",
              "      <td>Airplane</td>\n",
              "      <td>N1832</td>\n",
              "      <td>CESSNA ECTOR</td>\n",
              "      <td>305A</td>\n",
              "      <td>No</td>\n",
              "      <td>1</td>\n",
              "      <td></td>\n",
              "      <td>Part 91: General Aviation</td>\n",
              "      <td></td>\n",
              "      <td>Instructional</td>\n",
              "      <td></td>\n",
              "      <td></td>\n",
              "      <td></td>\n",
              "      <td></td>\n",
              "      <td>1</td>\n",
              "      <td>VMC</td>\n",
              "      <td></td>\n",
              "      <td>Preliminary</td>\n",
              "      <td>04/10/2018</td>\n",
              "    </tr>\n",
              "    <tr>\n",
              "      <th>2</th>\n",
              "      <td>20180406X70836</td>\n",
              "      <td>Accident</td>\n",
              "      <td>GAA18CA203</td>\n",
              "      <td>04/06/2018</td>\n",
              "      <td>Caldwell, ID</td>\n",
              "      <td>United States</td>\n",
              "      <td>43.6419</td>\n",
              "      <td>-116.636</td>\n",
              "      <td>EUL</td>\n",
              "      <td>CALDWELL INDUSTRIAL</td>\n",
              "      <td>Non-Fatal</td>\n",
              "      <td>Substantial</td>\n",
              "      <td>Airplane</td>\n",
              "      <td>N66PB</td>\n",
              "      <td>CARR B L</td>\n",
              "      <td>RV 4</td>\n",
              "      <td>Yes</td>\n",
              "      <td>1</td>\n",
              "      <td></td>\n",
              "      <td>Part 91: General Aviation</td>\n",
              "      <td></td>\n",
              "      <td>Personal</td>\n",
              "      <td></td>\n",
              "      <td></td>\n",
              "      <td></td>\n",
              "      <td></td>\n",
              "      <td>2</td>\n",
              "      <td>VMC</td>\n",
              "      <td></td>\n",
              "      <td>Preliminary</td>\n",
              "      <td>04/10/2018</td>\n",
              "    </tr>\n",
              "  </tbody>\n",
              "</table>\n",
              "</div>"
            ],
            "text/plain": [
              "          Event Id        Type  ...  Report Status Publication Date\n",
              "0  20180410X65647    Accident   ...   Preliminary       04/10/2018 \n",
              "1  20180410X72014    Accident   ...   Preliminary       04/10/2018 \n",
              "2  20180406X70836    Accident   ...   Preliminary       04/10/2018 \n",
              "\n",
              "[3 rows x 31 columns]"
            ]
          },
          "metadata": {
            "tags": []
          },
          "execution_count": 2
        }
      ]
    },
    {
      "cell_type": "code",
      "metadata": {
        "id": "ApQFZUN9r1R0",
        "outputId": "a6b7bd21-1ef8-4881-edf9-71a63a508836",
        "colab": {
          "base_uri": "https://localhost:8080/",
          "height": 203
        }
      },
      "source": [
        "# DROP UNWANTED COLUMNS FROM DATAFRAME\n",
        "\n",
        "main_df = main_df.drop(columns=['Event Id','Accident #', 'Event Date', 'Location', 'Latitude', 'Longitude', 'Airport Code', 'Airport Name',\n",
        "                                'Registration Number', 'Make', 'Model', 'FAR Description', 'Schedule', 'Air Carrier', 'Report Status', 'Publication Date'])\n",
        "\n",
        "main_df.head(3)"
      ],
      "execution_count": 3,
      "outputs": [
        {
          "output_type": "execute_result",
          "data": {
            "text/html": [
              "<div>\n",
              "<style scoped>\n",
              "    .dataframe tbody tr th:only-of-type {\n",
              "        vertical-align: middle;\n",
              "    }\n",
              "\n",
              "    .dataframe tbody tr th {\n",
              "        vertical-align: top;\n",
              "    }\n",
              "\n",
              "    .dataframe thead th {\n",
              "        text-align: right;\n",
              "    }\n",
              "</style>\n",
              "<table border=\"1\" class=\"dataframe\">\n",
              "  <thead>\n",
              "    <tr style=\"text-align: right;\">\n",
              "      <th></th>\n",
              "      <th>Type</th>\n",
              "      <th>Country</th>\n",
              "      <th>Injury Severity</th>\n",
              "      <th>Aircraft Damage</th>\n",
              "      <th>Aircraft Category</th>\n",
              "      <th>Amateur Built</th>\n",
              "      <th>Number of Engines</th>\n",
              "      <th>Engine Type</th>\n",
              "      <th>Purpose of Flight</th>\n",
              "      <th>Total Fatal Injuries</th>\n",
              "      <th>Total Serious Injuries</th>\n",
              "      <th>Total Minor Injuries</th>\n",
              "      <th>Total Uninjured</th>\n",
              "      <th>Weather Condition</th>\n",
              "      <th>Broad Phase of Flight</th>\n",
              "    </tr>\n",
              "  </thead>\n",
              "  <tbody>\n",
              "    <tr>\n",
              "      <th>0</th>\n",
              "      <td>Accident</td>\n",
              "      <td>United States</td>\n",
              "      <td>Non-Fatal</td>\n",
              "      <td>Substantial</td>\n",
              "      <td>Airplane</td>\n",
              "      <td>Yes</td>\n",
              "      <td>1</td>\n",
              "      <td></td>\n",
              "      <td>Personal</td>\n",
              "      <td></td>\n",
              "      <td></td>\n",
              "      <td></td>\n",
              "      <td>1</td>\n",
              "      <td>VMC</td>\n",
              "      <td></td>\n",
              "    </tr>\n",
              "    <tr>\n",
              "      <th>1</th>\n",
              "      <td>Accident</td>\n",
              "      <td>United States</td>\n",
              "      <td>Non-Fatal</td>\n",
              "      <td>Substantial</td>\n",
              "      <td>Airplane</td>\n",
              "      <td>No</td>\n",
              "      <td>1</td>\n",
              "      <td></td>\n",
              "      <td>Instructional</td>\n",
              "      <td></td>\n",
              "      <td></td>\n",
              "      <td></td>\n",
              "      <td>1</td>\n",
              "      <td>VMC</td>\n",
              "      <td></td>\n",
              "    </tr>\n",
              "    <tr>\n",
              "      <th>2</th>\n",
              "      <td>Accident</td>\n",
              "      <td>United States</td>\n",
              "      <td>Non-Fatal</td>\n",
              "      <td>Substantial</td>\n",
              "      <td>Airplane</td>\n",
              "      <td>Yes</td>\n",
              "      <td>1</td>\n",
              "      <td></td>\n",
              "      <td>Personal</td>\n",
              "      <td></td>\n",
              "      <td></td>\n",
              "      <td></td>\n",
              "      <td>2</td>\n",
              "      <td>VMC</td>\n",
              "      <td></td>\n",
              "    </tr>\n",
              "  </tbody>\n",
              "</table>\n",
              "</div>"
            ],
            "text/plain": [
              "         Type          Country  ... Weather Condition Broad Phase of Flight\n",
              "0   Accident    United States   ...              VMC                       \n",
              "1   Accident    United States   ...              VMC                       \n",
              "2   Accident    United States   ...              VMC                       \n",
              "\n",
              "[3 rows x 15 columns]"
            ]
          },
          "metadata": {
            "tags": []
          },
          "execution_count": 3
        }
      ]
    },
    {
      "cell_type": "code",
      "metadata": {
        "id": "6xuiAZEdskcU"
      },
      "source": [
        "# Make dataframes for Model Training Features and Model Training Labels\n",
        "\n",
        "TrainFeatList = ['Country','Injury Severity', 'Aircraft Damage', 'Amateur Built', 'Aircraft Category', 'Total Uninjured', \n",
        "                 'Engine Type', 'Purpose of Flight', 'Weather Condition', 'Number of Engines', 'Broad Phase of Flight']\n",
        "\n",
        "TargetFeatList = ['Type', 'Injury Severity', 'Aircraft Damage', 'Amateur Built', 'Weather Condition', 'Number of Engines', \n",
        "                  'Total Fatal Injuries', 'Total Serious Injuries', 'Total Minor Injuries'] \n",
        "\n",
        "df_training = main_df[TrainFeatList]\n",
        "df_forLabels = main_df[TargetFeatList]"
      ],
      "execution_count": 4,
      "outputs": []
    },
    {
      "cell_type": "code",
      "metadata": {
        "id": "X83Wgx2ICN9V",
        "outputId": "f5b61827-ca59-4ba8-a191-f8a263f2635c",
        "colab": {
          "base_uri": "https://localhost:8080/",
          "height": 203
        }
      },
      "source": [
        "df_training.head(3)"
      ],
      "execution_count": 5,
      "outputs": [
        {
          "output_type": "execute_result",
          "data": {
            "text/html": [
              "<div>\n",
              "<style scoped>\n",
              "    .dataframe tbody tr th:only-of-type {\n",
              "        vertical-align: middle;\n",
              "    }\n",
              "\n",
              "    .dataframe tbody tr th {\n",
              "        vertical-align: top;\n",
              "    }\n",
              "\n",
              "    .dataframe thead th {\n",
              "        text-align: right;\n",
              "    }\n",
              "</style>\n",
              "<table border=\"1\" class=\"dataframe\">\n",
              "  <thead>\n",
              "    <tr style=\"text-align: right;\">\n",
              "      <th></th>\n",
              "      <th>Country</th>\n",
              "      <th>Injury Severity</th>\n",
              "      <th>Aircraft Damage</th>\n",
              "      <th>Amateur Built</th>\n",
              "      <th>Aircraft Category</th>\n",
              "      <th>Total Uninjured</th>\n",
              "      <th>Engine Type</th>\n",
              "      <th>Purpose of Flight</th>\n",
              "      <th>Weather Condition</th>\n",
              "      <th>Number of Engines</th>\n",
              "      <th>Broad Phase of Flight</th>\n",
              "    </tr>\n",
              "  </thead>\n",
              "  <tbody>\n",
              "    <tr>\n",
              "      <th>0</th>\n",
              "      <td>United States</td>\n",
              "      <td>Non-Fatal</td>\n",
              "      <td>Substantial</td>\n",
              "      <td>Yes</td>\n",
              "      <td>Airplane</td>\n",
              "      <td>1</td>\n",
              "      <td></td>\n",
              "      <td>Personal</td>\n",
              "      <td>VMC</td>\n",
              "      <td>1</td>\n",
              "      <td></td>\n",
              "    </tr>\n",
              "    <tr>\n",
              "      <th>1</th>\n",
              "      <td>United States</td>\n",
              "      <td>Non-Fatal</td>\n",
              "      <td>Substantial</td>\n",
              "      <td>No</td>\n",
              "      <td>Airplane</td>\n",
              "      <td>1</td>\n",
              "      <td></td>\n",
              "      <td>Instructional</td>\n",
              "      <td>VMC</td>\n",
              "      <td>1</td>\n",
              "      <td></td>\n",
              "    </tr>\n",
              "    <tr>\n",
              "      <th>2</th>\n",
              "      <td>United States</td>\n",
              "      <td>Non-Fatal</td>\n",
              "      <td>Substantial</td>\n",
              "      <td>Yes</td>\n",
              "      <td>Airplane</td>\n",
              "      <td>2</td>\n",
              "      <td></td>\n",
              "      <td>Personal</td>\n",
              "      <td>VMC</td>\n",
              "      <td>1</td>\n",
              "      <td></td>\n",
              "    </tr>\n",
              "  </tbody>\n",
              "</table>\n",
              "</div>"
            ],
            "text/plain": [
              "           Country Injury Severity  ... Number of Engines Broad Phase of Flight\n",
              "0   United States       Non-Fatal   ...                 1                      \n",
              "1   United States       Non-Fatal   ...                 1                      \n",
              "2   United States       Non-Fatal   ...                 1                      \n",
              "\n",
              "[3 rows x 11 columns]"
            ]
          },
          "metadata": {
            "tags": []
          },
          "execution_count": 5
        }
      ]
    },
    {
      "cell_type": "code",
      "metadata": {
        "id": "m1iWNPmCCN4-",
        "outputId": "61c4e40e-1d2e-4eec-e26f-c6fe4cdffbd4",
        "colab": {
          "base_uri": "https://localhost:8080/",
          "height": 136
        }
      },
      "source": [
        "df_forLabels.head(3)"
      ],
      "execution_count": 6,
      "outputs": [
        {
          "output_type": "execute_result",
          "data": {
            "text/html": [
              "<div>\n",
              "<style scoped>\n",
              "    .dataframe tbody tr th:only-of-type {\n",
              "        vertical-align: middle;\n",
              "    }\n",
              "\n",
              "    .dataframe tbody tr th {\n",
              "        vertical-align: top;\n",
              "    }\n",
              "\n",
              "    .dataframe thead th {\n",
              "        text-align: right;\n",
              "    }\n",
              "</style>\n",
              "<table border=\"1\" class=\"dataframe\">\n",
              "  <thead>\n",
              "    <tr style=\"text-align: right;\">\n",
              "      <th></th>\n",
              "      <th>Type</th>\n",
              "      <th>Injury Severity</th>\n",
              "      <th>Aircraft Damage</th>\n",
              "      <th>Amateur Built</th>\n",
              "      <th>Weather Condition</th>\n",
              "      <th>Number of Engines</th>\n",
              "      <th>Total Fatal Injuries</th>\n",
              "      <th>Total Serious Injuries</th>\n",
              "      <th>Total Minor Injuries</th>\n",
              "    </tr>\n",
              "  </thead>\n",
              "  <tbody>\n",
              "    <tr>\n",
              "      <th>0</th>\n",
              "      <td>Accident</td>\n",
              "      <td>Non-Fatal</td>\n",
              "      <td>Substantial</td>\n",
              "      <td>Yes</td>\n",
              "      <td>VMC</td>\n",
              "      <td>1</td>\n",
              "      <td></td>\n",
              "      <td></td>\n",
              "      <td></td>\n",
              "    </tr>\n",
              "    <tr>\n",
              "      <th>1</th>\n",
              "      <td>Accident</td>\n",
              "      <td>Non-Fatal</td>\n",
              "      <td>Substantial</td>\n",
              "      <td>No</td>\n",
              "      <td>VMC</td>\n",
              "      <td>1</td>\n",
              "      <td></td>\n",
              "      <td></td>\n",
              "      <td></td>\n",
              "    </tr>\n",
              "    <tr>\n",
              "      <th>2</th>\n",
              "      <td>Accident</td>\n",
              "      <td>Non-Fatal</td>\n",
              "      <td>Substantial</td>\n",
              "      <td>Yes</td>\n",
              "      <td>VMC</td>\n",
              "      <td>1</td>\n",
              "      <td></td>\n",
              "      <td></td>\n",
              "      <td></td>\n",
              "    </tr>\n",
              "  </tbody>\n",
              "</table>\n",
              "</div>"
            ],
            "text/plain": [
              "         Type Injury Severity  ... Total Serious Injuries Total Minor Injuries\n",
              "0   Accident       Non-Fatal   ...                                            \n",
              "1   Accident       Non-Fatal   ...                                            \n",
              "2   Accident       Non-Fatal   ...                                            \n",
              "\n",
              "[3 rows x 9 columns]"
            ]
          },
          "metadata": {
            "tags": []
          },
          "execution_count": 6
        }
      ]
    },
    {
      "cell_type": "markdown",
      "metadata": {
        "id": "uLrLKoA08wnW"
      },
      "source": [
        "# **Create a New Target Label- ASI**"
      ]
    },
    {
      "cell_type": "code",
      "metadata": {
        "id": "ghIZkMrIuqKB",
        "outputId": "1010b84a-7b38-4920-88b1-af70cfa717af",
        "colab": {
          "base_uri": "https://localhost:8080/",
          "height": 136
        }
      },
      "source": [
        "# REPLACE CATEGORIES WITH NUMERIC or NULL VALUES\n",
        "label_df = df_forLabels.copy()\n",
        "\n",
        "label_df['Type'].replace([' Accident ', ' Incident '] , [10, 1], inplace=True)\n",
        "label_df['Injury Severity'].replace([' Fatal ', ' Non-Fatal '] ,[10, 1],  inplace=True)\n",
        "label_df[\"Aircraft Damage\"].replace([' Destroyed ', ' Substantial ', ' Minor '] , [10, 6, 2], inplace=True)\n",
        "label_df['Amateur Built'].replace([' Yes ', ' No '] ,[10, 1], inplace=True)\n",
        "label_df['Number of Engines'].replace( [0, 1, 2, 3, 4] , [10, 8, 5, 3, 1] , inplace=True)\n",
        "label_df['Weather Condition'].replace([' UNK ', ' VMC ', ' IMC '], [5, 7, 9], inplace=True)\n",
        "label_df.replace( r'^\\s*$', 0, regex=True,  inplace=True)\n",
        "\n",
        "label_df.head(3)"
      ],
      "execution_count": 7,
      "outputs": [
        {
          "output_type": "execute_result",
          "data": {
            "text/html": [
              "<div>\n",
              "<style scoped>\n",
              "    .dataframe tbody tr th:only-of-type {\n",
              "        vertical-align: middle;\n",
              "    }\n",
              "\n",
              "    .dataframe tbody tr th {\n",
              "        vertical-align: top;\n",
              "    }\n",
              "\n",
              "    .dataframe thead th {\n",
              "        text-align: right;\n",
              "    }\n",
              "</style>\n",
              "<table border=\"1\" class=\"dataframe\">\n",
              "  <thead>\n",
              "    <tr style=\"text-align: right;\">\n",
              "      <th></th>\n",
              "      <th>Type</th>\n",
              "      <th>Injury Severity</th>\n",
              "      <th>Aircraft Damage</th>\n",
              "      <th>Amateur Built</th>\n",
              "      <th>Weather Condition</th>\n",
              "      <th>Number of Engines</th>\n",
              "      <th>Total Fatal Injuries</th>\n",
              "      <th>Total Serious Injuries</th>\n",
              "      <th>Total Minor Injuries</th>\n",
              "    </tr>\n",
              "  </thead>\n",
              "  <tbody>\n",
              "    <tr>\n",
              "      <th>0</th>\n",
              "      <td>10</td>\n",
              "      <td>1</td>\n",
              "      <td>6</td>\n",
              "      <td>10</td>\n",
              "      <td>7</td>\n",
              "      <td>8</td>\n",
              "      <td>0</td>\n",
              "      <td>0</td>\n",
              "      <td>0</td>\n",
              "    </tr>\n",
              "    <tr>\n",
              "      <th>1</th>\n",
              "      <td>10</td>\n",
              "      <td>1</td>\n",
              "      <td>6</td>\n",
              "      <td>1</td>\n",
              "      <td>7</td>\n",
              "      <td>8</td>\n",
              "      <td>0</td>\n",
              "      <td>0</td>\n",
              "      <td>0</td>\n",
              "    </tr>\n",
              "    <tr>\n",
              "      <th>2</th>\n",
              "      <td>10</td>\n",
              "      <td>1</td>\n",
              "      <td>6</td>\n",
              "      <td>10</td>\n",
              "      <td>7</td>\n",
              "      <td>8</td>\n",
              "      <td>0</td>\n",
              "      <td>0</td>\n",
              "      <td>0</td>\n",
              "    </tr>\n",
              "  </tbody>\n",
              "</table>\n",
              "</div>"
            ],
            "text/plain": [
              "   Type  Injury Severity  ...  Total Serious Injuries  Total Minor Injuries\n",
              "0    10                1  ...                       0                     0\n",
              "1    10                1  ...                       0                     0\n",
              "2    10                1  ...                       0                     0\n",
              "\n",
              "[3 rows x 9 columns]"
            ]
          },
          "metadata": {
            "tags": []
          },
          "execution_count": 7
        }
      ]
    },
    {
      "cell_type": "markdown",
      "metadata": {
        "id": "DvbePCM2Ilhe"
      },
      "source": [
        "## **Dimensionality Reduction using PCA to create New Target Label - ASI**"
      ]
    },
    {
      "cell_type": "code",
      "metadata": {
        "id": "vD8d5nrw1LrN",
        "outputId": "5ab857d8-1ff8-43a2-d238-406b711e7265",
        "colab": {
          "base_uri": "https://localhost:8080/",
          "height": 195
        }
      },
      "source": [
        "# APPLY PCA\n",
        "pca = PCA(n_components = 1)\n",
        "labels = pca.fit_transform(label_df)\n",
        "labels = pd.DataFrame(labels)\n",
        "labels = labels.rename(columns={0: \"ASI\"})          #ASI - ACCIDENT SEVERITY INDEX\n",
        "labels.head()"
      ],
      "execution_count": 14,
      "outputs": [
        {
          "output_type": "execute_result",
          "data": {
            "text/html": [
              "<div>\n",
              "<style scoped>\n",
              "    .dataframe tbody tr th:only-of-type {\n",
              "        vertical-align: middle;\n",
              "    }\n",
              "\n",
              "    .dataframe tbody tr th {\n",
              "        vertical-align: top;\n",
              "    }\n",
              "\n",
              "    .dataframe thead th {\n",
              "        text-align: right;\n",
              "    }\n",
              "</style>\n",
              "<table border=\"1\" class=\"dataframe\">\n",
              "  <thead>\n",
              "    <tr style=\"text-align: right;\">\n",
              "      <th></th>\n",
              "      <th>ASI</th>\n",
              "    </tr>\n",
              "  </thead>\n",
              "  <tbody>\n",
              "    <tr>\n",
              "      <th>0</th>\n",
              "      <td>-1.155690</td>\n",
              "    </tr>\n",
              "    <tr>\n",
              "      <th>1</th>\n",
              "      <td>-1.169425</td>\n",
              "    </tr>\n",
              "    <tr>\n",
              "      <th>2</th>\n",
              "      <td>-1.155690</td>\n",
              "    </tr>\n",
              "    <tr>\n",
              "      <th>3</th>\n",
              "      <td>-1.071735</td>\n",
              "    </tr>\n",
              "    <tr>\n",
              "      <th>4</th>\n",
              "      <td>-1.071735</td>\n",
              "    </tr>\n",
              "  </tbody>\n",
              "</table>\n",
              "</div>"
            ],
            "text/plain": [
              "        ASI\n",
              "0 -1.155690\n",
              "1 -1.169425\n",
              "2 -1.155690\n",
              "3 -1.071735\n",
              "4 -1.071735"
            ]
          },
          "metadata": {
            "tags": []
          },
          "execution_count": 14
        }
      ]
    },
    {
      "cell_type": "code",
      "metadata": {
        "id": "RrSJKDji5U4G",
        "outputId": "c36db121-3c65-4c33-a5c0-ce6cb88b24e7",
        "colab": {
          "base_uri": "https://localhost:8080/",
          "height": 67
        }
      },
      "source": [
        "# COMPUTE MEANS TO SPLIT TARGET FEATURE VALUES INTO 4 CATEGORIES\n",
        "\n",
        "mean2 = float(labels.mean())\n",
        "\n",
        "df_top_two_classes = labels[labels.ASI >= mean2]\n",
        "mean1 = float(df_top_two_classes.mean())\n",
        "\n",
        "df_bottom_two_classes = labels[labels.ASI < mean2]\n",
        "mean3 = float(df_bottom_two_classes.mean())\n",
        "\n",
        "print ('mean1', mean1)\n",
        "print('mean2', mean2)\n",
        "print ('mean3', mean3)"
      ],
      "execution_count": 15,
      "outputs": [
        {
          "output_type": "stream",
          "text": [
            "mean1 4.481904949075327\n",
            "mean2 -2.009096240759925e-14\n",
            "mean3 -1.123128374315798\n"
          ],
          "name": "stdout"
        }
      ]
    },
    {
      "cell_type": "code",
      "metadata": {
        "id": "avpLyQwt6bX_",
        "outputId": "065c0c06-cb63-4a92-c863-691ebc567c92",
        "colab": {
          "base_uri": "https://localhost:8080/",
          "height": 400
        }
      },
      "source": [
        "# NAME THE CATEGORIES CREATED \n",
        "\n",
        "targets = pd.DataFrame(index=labels.index, columns=[\"ASI\"])\n",
        "\n",
        "for i in range(len(labels)) :\n",
        "    \n",
        "    if (labels.iloc[i] >= mean1).bool() :\n",
        "        targets.iloc[i] = 4             # 4 - Catastrophic\n",
        "        \n",
        "    elif (labels.iloc[i] < mean1).bool() and (labels.iloc[i] >= mean2).bool() :\n",
        "        targets.iloc[i] = 3             # 3 - Hazardous\n",
        "        \n",
        "    elif (labels.iloc[i] < mean2).bool() and (labels.iloc[i] >= mean3).bool() :\n",
        "        targets.iloc[i] = 2             # 2 - Minor\n",
        "        \n",
        "    else :\n",
        "        targets.iloc[i] = 1             # 1 - Negligible\n",
        "\n",
        "sns.catplot(x='ASI', data=targets, kind='count', height=5, aspect= 2.33)       "
      ],
      "execution_count": 16,
      "outputs": [
        {
          "output_type": "execute_result",
          "data": {
            "text/plain": [
              "<seaborn.axisgrid.FacetGrid at 0x7fc0652680f0>"
            ]
          },
          "metadata": {
            "tags": []
          },
          "execution_count": 16
        },
        {
          "output_type": "display_data",
          "data": {
            "image/png": "[encoded data removed]",
            "text/plain": [
              "<Figure size 838.8x360 with 1 Axes>"
            ]
          },
          "metadata": {
            "tags": [],
            "needs_background": "light"
          }
        }
      ]
    },
    {
      "cell_type": "markdown",
      "metadata": {
        "id": "DnXx6Svd9V6O"
      },
      "source": [
        "# **Data Preprocessing to Training Features Dataframe**"
      ]
    },
    {
      "cell_type": "code",
      "metadata": {
        "id": "eywJoAWn7q6X",
        "outputId": "d461c8b9-8498-4d6f-d91d-25e9bb1464c7",
        "colab": {
          "base_uri": "https://localhost:8080/",
          "height": 157
        }
      },
      "source": [
        "Tr_df = df_training.copy()\n",
        "\n",
        "Tr_df.replace(r'^\\s*$' , 0, regex=True, inplace=True)\n",
        "Tr_df.fillna(0)\n",
        "\n",
        "for i in range(df_training.shape[1]):\n",
        "    Tr_df[TrainFeatList[i]] = Tr_df[TrainFeatList[i]].astype(str)\n",
        "\n",
        "Tr_df.head(2)"
      ],
      "execution_count": 17,
      "outputs": [
        {
          "output_type": "execute_result",
          "data": {
            "text/html": [
              "<div>\n",
              "<style scoped>\n",
              "    .dataframe tbody tr th:only-of-type {\n",
              "        vertical-align: middle;\n",
              "    }\n",
              "\n",
              "    .dataframe tbody tr th {\n",
              "        vertical-align: top;\n",
              "    }\n",
              "\n",
              "    .dataframe thead th {\n",
              "        text-align: right;\n",
              "    }\n",
              "</style>\n",
              "<table border=\"1\" class=\"dataframe\">\n",
              "  <thead>\n",
              "    <tr style=\"text-align: right;\">\n",
              "      <th></th>\n",
              "      <th>Country</th>\n",
              "      <th>Injury Severity</th>\n",
              "      <th>Aircraft Damage</th>\n",
              "      <th>Amateur Built</th>\n",
              "      <th>Aircraft Category</th>\n",
              "      <th>Total Uninjured</th>\n",
              "      <th>Engine Type</th>\n",
              "      <th>Purpose of Flight</th>\n",
              "      <th>Weather Condition</th>\n",
              "      <th>Number of Engines</th>\n",
              "      <th>Broad Phase of Flight</th>\n",
              "    </tr>\n",
              "  </thead>\n",
              "  <tbody>\n",
              "    <tr>\n",
              "      <th>0</th>\n",
              "      <td>United States</td>\n",
              "      <td>Non-Fatal</td>\n",
              "      <td>Substantial</td>\n",
              "      <td>Yes</td>\n",
              "      <td>Airplane</td>\n",
              "      <td>1</td>\n",
              "      <td>0</td>\n",
              "      <td>Personal</td>\n",
              "      <td>VMC</td>\n",
              "      <td>1</td>\n",
              "      <td>0</td>\n",
              "    </tr>\n",
              "    <tr>\n",
              "      <th>1</th>\n",
              "      <td>United States</td>\n",
              "      <td>Non-Fatal</td>\n",
              "      <td>Substantial</td>\n",
              "      <td>No</td>\n",
              "      <td>Airplane</td>\n",
              "      <td>1</td>\n",
              "      <td>0</td>\n",
              "      <td>Instructional</td>\n",
              "      <td>VMC</td>\n",
              "      <td>1</td>\n",
              "      <td>0</td>\n",
              "    </tr>\n",
              "  </tbody>\n",
              "</table>\n",
              "</div>"
            ],
            "text/plain": [
              "           Country Injury Severity  ... Number of Engines Broad Phase of Flight\n",
              "0   United States       Non-Fatal   ...                 1                     0\n",
              "1   United States       Non-Fatal   ...                 1                     0\n",
              "\n",
              "[2 rows x 11 columns]"
            ]
          },
          "metadata": {
            "tags": []
          },
          "execution_count": 17
        }
      ]
    },
    {
      "cell_type": "markdown",
      "metadata": {
        "id": "A81JJSCXJWzP"
      },
      "source": [
        "# **Apply Label Encoding**"
      ]
    },
    {
      "cell_type": "code",
      "metadata": {
        "id": "m3k1As7w-lGx",
        "outputId": "b09ff88c-43d4-4235-aa25-0aff5a9778ac",
        "colab": {
          "base_uri": "https://localhost:8080/",
          "height": 153
        }
      },
      "source": [
        "labEnc = Tr_df.apply(LabelEncoder().fit_transform)\n",
        "labEnc.head(3)"
      ],
      "execution_count": 18,
      "outputs": [
        {
          "output_type": "execute_result",
          "data": {
            "text/html": [
              "<div>\n",
              "<style scoped>\n",
              "    .dataframe tbody tr th:only-of-type {\n",
              "        vertical-align: middle;\n",
              "    }\n",
              "\n",
              "    .dataframe tbody tr th {\n",
              "        vertical-align: top;\n",
              "    }\n",
              "\n",
              "    .dataframe thead th {\n",
              "        text-align: right;\n",
              "    }\n",
              "</style>\n",
              "<table border=\"1\" class=\"dataframe\">\n",
              "  <thead>\n",
              "    <tr style=\"text-align: right;\">\n",
              "      <th></th>\n",
              "      <th>Country</th>\n",
              "      <th>Injury Severity</th>\n",
              "      <th>Aircraft Damage</th>\n",
              "      <th>Amateur Built</th>\n",
              "      <th>Aircraft Category</th>\n",
              "      <th>Total Uninjured</th>\n",
              "      <th>Engine Type</th>\n",
              "      <th>Purpose of Flight</th>\n",
              "      <th>Weather Condition</th>\n",
              "      <th>Number of Engines</th>\n",
              "      <th>Broad Phase of Flight</th>\n",
              "    </tr>\n",
              "  </thead>\n",
              "  <tbody>\n",
              "    <tr>\n",
              "      <th>0</th>\n",
              "      <td>167</td>\n",
              "      <td>1</td>\n",
              "      <td>2</td>\n",
              "      <td>1</td>\n",
              "      <td>0</td>\n",
              "      <td>1</td>\n",
              "      <td>13</td>\n",
              "      <td>14</td>\n",
              "      <td>2</td>\n",
              "      <td>1</td>\n",
              "      <td>12</td>\n",
              "    </tr>\n",
              "    <tr>\n",
              "      <th>1</th>\n",
              "      <td>167</td>\n",
              "      <td>1</td>\n",
              "      <td>2</td>\n",
              "      <td>0</td>\n",
              "      <td>0</td>\n",
              "      <td>1</td>\n",
              "      <td>13</td>\n",
              "      <td>12</td>\n",
              "      <td>2</td>\n",
              "      <td>1</td>\n",
              "      <td>12</td>\n",
              "    </tr>\n",
              "    <tr>\n",
              "      <th>2</th>\n",
              "      <td>167</td>\n",
              "      <td>1</td>\n",
              "      <td>2</td>\n",
              "      <td>1</td>\n",
              "      <td>0</td>\n",
              "      <td>112</td>\n",
              "      <td>13</td>\n",
              "      <td>14</td>\n",
              "      <td>2</td>\n",
              "      <td>1</td>\n",
              "      <td>12</td>\n",
              "    </tr>\n",
              "  </tbody>\n",
              "</table>\n",
              "</div>"
            ],
            "text/plain": [
              "   Country  Injury Severity  ...  Number of Engines  Broad Phase of Flight\n",
              "0      167                1  ...                  1                     12\n",
              "1      167                1  ...                  1                     12\n",
              "2      167                1  ...                  1                     12\n",
              "\n",
              "[3 rows x 11 columns]"
            ]
          },
          "metadata": {
            "tags": []
          },
          "execution_count": 18
        }
      ]
    },
    {
      "cell_type": "code",
      "metadata": {
        "id": "zJHI44kxAJli",
        "outputId": "ebb2345c-9bb2-4cc7-b069-171330783a48",
        "colab": {
          "base_uri": "https://localhost:8080/",
          "height": 212
        }
      },
      "source": [
        "# Create the final Dataframe \n",
        "\n",
        "df_final = pd.merge(labEnc, targets, left_index=True, right_index=True)\n",
        "df_final.head()"
      ],
      "execution_count": 19,
      "outputs": [
        {
          "output_type": "execute_result",
          "data": {
            "text/html": [
              "<div>\n",
              "<style scoped>\n",
              "    .dataframe tbody tr th:only-of-type {\n",
              "        vertical-align: middle;\n",
              "    }\n",
              "\n",
              "    .dataframe tbody tr th {\n",
              "        vertical-align: top;\n",
              "    }\n",
              "\n",
              "    .dataframe thead th {\n",
              "        text-align: right;\n",
              "    }\n",
              "</style>\n",
              "<table border=\"1\" class=\"dataframe\">\n",
              "  <thead>\n",
              "    <tr style=\"text-align: right;\">\n",
              "      <th></th>\n",
              "      <th>Country</th>\n",
              "      <th>Injury Severity</th>\n",
              "      <th>Aircraft Damage</th>\n",
              "      <th>Amateur Built</th>\n",
              "      <th>Aircraft Category</th>\n",
              "      <th>Total Uninjured</th>\n",
              "      <th>Engine Type</th>\n",
              "      <th>Purpose of Flight</th>\n",
              "      <th>Weather Condition</th>\n",
              "      <th>Number of Engines</th>\n",
              "      <th>Broad Phase of Flight</th>\n",
              "      <th>ASI</th>\n",
              "    </tr>\n",
              "  </thead>\n",
              "  <tbody>\n",
              "    <tr>\n",
              "      <th>0</th>\n",
              "      <td>167</td>\n",
              "      <td>1</td>\n",
              "      <td>2</td>\n",
              "      <td>1</td>\n",
              "      <td>0</td>\n",
              "      <td>1</td>\n",
              "      <td>13</td>\n",
              "      <td>14</td>\n",
              "      <td>2</td>\n",
              "      <td>1</td>\n",
              "      <td>12</td>\n",
              "      <td>1</td>\n",
              "    </tr>\n",
              "    <tr>\n",
              "      <th>1</th>\n",
              "      <td>167</td>\n",
              "      <td>1</td>\n",
              "      <td>2</td>\n",
              "      <td>0</td>\n",
              "      <td>0</td>\n",
              "      <td>1</td>\n",
              "      <td>13</td>\n",
              "      <td>12</td>\n",
              "      <td>2</td>\n",
              "      <td>1</td>\n",
              "      <td>12</td>\n",
              "      <td>1</td>\n",
              "    </tr>\n",
              "    <tr>\n",
              "      <th>2</th>\n",
              "      <td>167</td>\n",
              "      <td>1</td>\n",
              "      <td>2</td>\n",
              "      <td>1</td>\n",
              "      <td>0</td>\n",
              "      <td>112</td>\n",
              "      <td>13</td>\n",
              "      <td>14</td>\n",
              "      <td>2</td>\n",
              "      <td>1</td>\n",
              "      <td>12</td>\n",
              "      <td>1</td>\n",
              "    </tr>\n",
              "    <tr>\n",
              "      <th>3</th>\n",
              "      <td>167</td>\n",
              "      <td>1</td>\n",
              "      <td>2</td>\n",
              "      <td>0</td>\n",
              "      <td>0</td>\n",
              "      <td>1</td>\n",
              "      <td>13</td>\n",
              "      <td>14</td>\n",
              "      <td>3</td>\n",
              "      <td>1</td>\n",
              "      <td>12</td>\n",
              "      <td>2</td>\n",
              "    </tr>\n",
              "    <tr>\n",
              "      <th>4</th>\n",
              "      <td>167</td>\n",
              "      <td>1</td>\n",
              "      <td>2</td>\n",
              "      <td>0</td>\n",
              "      <td>0</td>\n",
              "      <td>112</td>\n",
              "      <td>13</td>\n",
              "      <td>12</td>\n",
              "      <td>3</td>\n",
              "      <td>1</td>\n",
              "      <td>12</td>\n",
              "      <td>2</td>\n",
              "    </tr>\n",
              "  </tbody>\n",
              "</table>\n",
              "</div>"
            ],
            "text/plain": [
              "   Country  Injury Severity  ...  Broad Phase of Flight  ASI\n",
              "0      167                1  ...                     12    1\n",
              "1      167                1  ...                     12    1\n",
              "2      167                1  ...                     12    1\n",
              "3      167                1  ...                     12    2\n",
              "4      167                1  ...                     12    2\n",
              "\n",
              "[5 rows x 12 columns]"
            ]
          },
          "metadata": {
            "tags": []
          },
          "execution_count": 19
        }
      ]
    },
    {
      "cell_type": "markdown",
      "metadata": {
        "id": "o8xaCTmbGqHO"
      },
      "source": [
        "# **Perform Resampling to Solve the Class Imbalance Issue**"
      ]
    },
    {
      "cell_type": "code",
      "metadata": {
        "id": "YwaVJ3786H-g",
        "outputId": "b5387fb2-e5b2-4a96-d114-f3e6e634481e",
        "colab": {
          "base_uri": "https://localhost:8080/",
          "height": 84
        }
      },
      "source": [
        "class_names = {1: 'Negligible', 2: 'Minor', 3: 'Hazard', 4: 'Catastrophe'}\n",
        "\n",
        "# GET THE TOTAL SAMPLE COUNT\n",
        "\n",
        "print(class_names[1], ' : ', (df_final[\"ASI\"]==1).sum())\n",
        "print(class_names[2], ' : ', (df_final[\"ASI\"]==2).sum())\n",
        "print(class_names[3], ' : ', (df_final[\"ASI\"]==3).sum())\n",
        "print(class_names[4], ' : ', (df_final[\"ASI\"]==4).sum())\n"
      ],
      "execution_count": 20,
      "outputs": [
        {
          "output_type": "stream",
          "text": [
            "Negligible  :  49100\n",
            "Minor  :  15962\n",
            "Hazard  :  13020\n",
            "Catastrophe  :  3284\n"
          ],
          "name": "stdout"
        }
      ]
    },
    {
      "cell_type": "code",
      "metadata": {
        "id": "LTKl7oZO6IDX"
      },
      "source": [
        "# PERFORM RESAMPLING OF DATASET\n",
        "\n",
        "df1 = df_final.copy()\n",
        "\n",
        "class1 = df1[df1.ASI==1]\n",
        "class2 = df1[df1.ASI==2]\n",
        "class3 = df1[df1.ASI==3]\n",
        "class4 = df1[df1.ASI==4]\n",
        "\n",
        "class1 = resample(class1, replace=False, n_samples=25000, random_state=42)          # DOWNSAMPLE CLASS 1 \n",
        "\n",
        "class2 = resample(class2, replace=True, n_samples=25000, random_state=42)           # UPSAMPLE CLASS 2\n",
        "\n",
        "class3 = resample(class3, replace=True, n_samples=25000, random_state=42)           # UPSAMPLE CLASS 3\n",
        "\n",
        "class4 = resample(class4, replace=True, n_samples=25000, random_state=42)           # UPSAMPLE CLASS 4\n",
        "\n",
        "rs_df = pd.concat([class1, class2, class3, class4])\n",
        "\n",
        "rs_df = shuffle(rs_df)"
      ],
      "execution_count": 21,
      "outputs": []
    },
    {
      "cell_type": "code",
      "metadata": {
        "id": "EU5kdLIFGo4q",
        "outputId": "d3ae2c8f-e839-41a4-908d-7133d3b68342",
        "colab": {
          "base_uri": "https://localhost:8080/",
          "height": 400
        }
      },
      "source": [
        "# PLOT OF CLASS COUNTS\n",
        "\n",
        "sns.catplot(x='ASI', data=rs_df, kind='count', height=5, aspect= 2.33)       "
      ],
      "execution_count": 22,
      "outputs": [
        {
          "output_type": "execute_result",
          "data": {
            "text/plain": [
              "<seaborn.axisgrid.FacetGrid at 0x7fc065268e10>"
            ]
          },
          "metadata": {
            "tags": []
          },
          "execution_count": 22
        },
        {
          "output_type": "display_data",
          "data": {
            "image/png": "[encoded data removed]",
            "text/plain": [
              "<Figure size 838.8x360 with 1 Axes>"
            ]
          },
          "metadata": {
            "tags": [],
            "needs_background": "light"
          }
        }
      ]
    },
    {
      "cell_type": "markdown",
      "metadata": {
        "id": "Vs43l9IHHd5W"
      },
      "source": [
        "# **Export the balanced dataset as csv file**"
      ]
    },
    {
      "cell_type": "code",
      "metadata": {
        "id": "9sg2cJ4v9J6S"
      },
      "source": [
        "rs_df.to_csv(os.path.join(data_path, \"preprocessed_by_PCA.csv\"))                   # Save as a CSV File\n"
      ],
      "execution_count": 23,
      "outputs": []
    },
    {
      "cell_type": "code",
      "metadata": {
        "id": "wNYKOwP89poa"
      },
      "source": [
        ""
      ],
      "execution_count": null,
      "outputs": []
    }
  ]
}